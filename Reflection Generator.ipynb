{
 "cells": [
  {
   "cell_type": "markdown",
   "id": "d50a4588",
   "metadata": {},
   "source": [
    "# Reflection Generator"
   ]
  },
  {
   "cell_type": "code",
   "execution_count": 4,
   "id": "6f7fe014",
   "metadata": {},
   "outputs": [],
   "source": [
    "import os\n",
    "import openai\n",
    "from langchain.llms import OpenAI\n",
    "from langchain.prompts import PromptTemplate\n",
    "from langchain.prompts.few_shot import FewShotPromptTemplate\n",
    "\n",
    "# Read local .env file for api key\n",
    "from dotenv import load_dotenv, find_dotenv\n",
    "_ = load_dotenv(find_dotenv())\n",
    "openai.api_key = os.environ['OPENAI_API_KEY']"
   ]
  },
  {
   "cell_type": "code",
   "execution_count": 5,
   "id": "e36e3563",
   "metadata": {},
   "outputs": [],
   "source": [
    "llm = OpenAI(temperature=0.9)"
   ]
  },
  {
   "cell_type": "code",
   "execution_count": 6,
   "id": "359da0b9",
   "metadata": {},
   "outputs": [],
   "source": [
    "#create examples\n",
    "examples = [\n",
    "    {\"query\": \"Overcoming an obstacle.\",\n",
    "     \"answer\":\n",
    "     \"\"\"\n",
    "     In the varied stories across cultures, \n",
    "     we often see forces pitted against each other such \n",
    "     as light and darkness, good and evil, or chaos and \n",
    "     order.  While useful in letting us know which side \n",
    "     to root for, real life can often be more tricky and \n",
    "     many philosophers would suggest that one cannot \n",
    "     exist without the other. The Sisters of Providence \n",
    "     had a remarkable faith that allowed them to trust God \n",
    "     in all things.  Whether they enjoyed great success in \n",
    "     their endeavors or encountered one obstacle after \n",
    "     another, they were steadfast in their dependance on \n",
    "     Divine Providence.  Yet at the same time, they knew that \n",
    "     the same Spirit worked through them, using their skills \n",
    "     and knowledge to get things done.  This partnership \n",
    "     allowed them to take chances and be the pioneers that \n",
    "     they were in the mission to serve others.  Perhaps we \n",
    "     might allow the spirit of the sisters to inspire us. \n",
    "     Tackle a problem at work with a new idea, remove barriers \n",
    "     by trying something different, or start slowly by doing \n",
    "     something spontaneous, fun, and chaotic this weekend.\n",
    "     \"\"\"},\n",
    "    {\"query\": \"The changing of seasons.\",\n",
    "     \"answer\":\n",
    "     \"\"\"\n",
    "     The time we are experiencing is between Summer and Fall. \n",
    "     A blend of the two. Sometimes the things that lie in \n",
    "     between, go unseen. However, it does not dimmish their \n",
    "     importance nor beauty. A tide pool that sits between \n",
    "     the shore and the ocean, a bridge that connects two \n",
    "     separated bodies of land, a rainbow that only appears when \n",
    "     there is both rain and sun. How do you embrace the in \n",
    "     between? 'To say it was a beautiful day would not begin \n",
    "     to explain it. It was that day when the end of summer \n",
    "     intersects perfectly with the start of fall.' – Ann Patchett\n",
    "     \"\"\"\n",
    "    },\n",
    "    {\"query\":\"Heritage.\",\n",
    "     \"answer\":\n",
    "     \"\"\"\n",
    "     When we talk about the heritage of the Sisters of Providence, \n",
    "     we look to them as examples and models.  Today we do not strive \n",
    "     to do what they did, but rather to continue with the passion \n",
    "     and faith that they had; to forge new paths and innovative ways \n",
    "     to build upon their work.  Now, we are creating new traditions \n",
    "     and a shared history with those who came before us.  What \n",
    "     difference can I make, what stories will the next generation \n",
    "     tell? 'If you have a chance to accomplish something that will \n",
    "     make things better for people coming behind you, and you don’t \n",
    "     do that, you are wasting your time on this Earth.'' – Roberto \n",
    "     Clemente, baseball player.\n",
    "     \"\"\" \n",
    "    },\n",
    "    {\"query\": \"Encouraging.\",\n",
    "     \"answer\":\n",
    "     \"\"\"\n",
    "     Life is busy and complicated and so often we are pulled in multiple \n",
    "     directions.  We step into different roles with various groups, \n",
    "     whether they are co-workers, family members, friends, acquaintances, \n",
    "     or patients.  And within each group, we may wear multiple hats and \n",
    "     even ask ourselves – am I getting any of this right?  These are the \n",
    "     moments when we need to slow down, breathe, and realize that we are \n",
    "     exactly who and where we are meant to be. “You are perfectly cast \n",
    "     in your life. I can’t imagine anyone but you in the role. Go \n",
    "     play.” – Lin-Manuel Miranda, songwriter and actor who created Broadway \n",
    "     sensation Hamilton.\n",
    "     \"\"\"\n",
    "    },\n",
    "    {\"query\": \"Positivity.\",\n",
    "     \"answer\":\n",
    "     \"\"\"\n",
    "    Many of us are familiar with the expression, “Live, Laugh, Love.”  \n",
    "    In fact, some of us may have it written and posted somewhere in our \n",
    "    house or office.  With the popular trend of posting sayings in \n",
    "    prominent places to inspire us throughout the day, what phrase \n",
    "    gives you the extra push as you go through your day? For all the \n",
    "    dog lovers out there, I’ve always loved this frameable quote, \n",
    "    “Bark less, wag more.”  Not much more needs to be said but it does \n",
    "    have a few meanings for us humans.  Barking can refer to yelling \n",
    "    or any form of angry communication.  It can also imply unnecessary \n",
    "    yapping when sometimes enjoying the silence might be appropriate. \n",
    "    Of course, we can all use a bit more wagging – laughing, smiling, \n",
    "    dancing, a compliment, or anything that can put a bit of joy into \n",
    "    someone’s life.  Not a bad idea to take some advice from the dog \n",
    "    now and then. \n",
    "    \"\"\"\n",
    "    }\n",
    "]"
   ]
  },
  {
   "cell_type": "code",
   "execution_count": 7,
   "id": "beb49c6a",
   "metadata": {},
   "outputs": [],
   "source": [
    "#create example template\n",
    "example_template = \"\"\"\n",
    "User: {query}\n",
    "AI:{answer}\n",
    "\"\"\""
   ]
  },
  {
   "cell_type": "code",
   "execution_count": 8,
   "id": "565f6a68",
   "metadata": {},
   "outputs": [],
   "source": [
    "#create prompt example from above template\n",
    "example_prompt = PromptTemplate(\n",
    "    input_variables=[\"query\",\"answer\"],\n",
    "    template=example_template\n",
    ")"
   ]
  },
  {
   "cell_type": "code",
   "execution_count": 9,
   "id": "5e3e45ad",
   "metadata": {},
   "outputs": [],
   "source": [
    "#break prompt into prefix & suffix\n",
    "#the prefix is the instructions\n",
    "prefix=\"\"\"You are an AI assistant for Provide Health and Services\n",
    "that produces mission messages to inspire and encourage \n",
    "reflection based upon a user defined topic. The reflection \n",
    "should be no longer than 250 words. Typically a reflection includes\n",
    "a famous quote. Reflections can reference religion but should not\n",
    "be religious in tone. Here are some examples:\n",
    "\"\"\"\n",
    "#and the suffix is the user input and output indicator\n",
    "suffix=\"\"\"\n",
    "User:{query}\n",
    "AI: \"\"\""
   ]
  },
  {
   "cell_type": "code",
   "execution_count": 10,
   "id": "d6f8aefc",
   "metadata": {},
   "outputs": [],
   "source": [
    "#create the few shot prompt template\n",
    "few_shot_prompt_template = FewShotPromptTemplate(\n",
    "    examples=examples,\n",
    "    example_prompt=example_prompt,\n",
    "    prefix=prefix,\n",
    "    suffix=suffix,\n",
    "    input_variables=[\"query\"],\n",
    "    example_separator=\"\\n\\n\"\n",
    ")"
   ]
  },
  {
   "cell_type": "code",
   "execution_count": 11,
   "id": "ab35f29d",
   "metadata": {},
   "outputs": [
    {
     "name": "stdout",
     "output_type": "stream",
     "text": [
      "\n",
      "     Nothing is permanent in life but change. From season to season, \n",
      "     life brings us experiences and lessons that can shape our \n",
      "     perspective and decisions.  As we look to navigate the ever \n",
      "     changing waters, it's important to stay focused on what you \n",
      "     know is true and to be real with yourself.  Ancient Chinese \n",
      "     philosopher Lao Tsu said it best, “Life is a series of natural \n",
      "     and spontaneous changes. Don't resist them; that only creates \n",
      "     sorrow. Let reality be reality. Let things flow naturally \n",
      "     forward in whatever way they like.”  With the right mindset, \n",
      "     we can come to view the changes in our lives as necessary and \n",
      "     beneficial transitions.  The key is to remain flexible and to \n",
      "     trust the process of change.\n"
     ]
    }
   ],
   "source": [
    "query = \"Navigating constant change.\"\n",
    "print(llm(few_shot_prompt_template.format(query=query)))"
   ]
  },
  {
   "cell_type": "code",
   "execution_count": null,
   "id": "3fce73bf",
   "metadata": {},
   "outputs": [],
   "source": []
  }
 ],
 "metadata": {
  "kernelspec": {
   "display_name": "Python 3 (ipykernel)",
   "language": "python",
   "name": "python3"
  },
  "language_info": {
   "codemirror_mode": {
    "name": "ipython",
    "version": 3
   },
   "file_extension": ".py",
   "mimetype": "text/x-python",
   "name": "python",
   "nbconvert_exporter": "python",
   "pygments_lexer": "ipython3",
   "version": "3.9.12"
  }
 },
 "nbformat": 4,
 "nbformat_minor": 5
}
